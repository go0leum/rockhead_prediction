{
 "cells": [
  {
   "cell_type": "markdown",
   "id": "f3473b90",
   "metadata": {},
   "source": [
    "## bedrock head prediction: regression\n",
    "### 1. 데이터 전처리\n",
    "- null 값 삭제\n",
    "- 지반명 숫자 지정(시각화를 위함)\n",
    "- 데이터 시각화(3d plotting)\n",
    "- 크리깅 데이터 전처리(풍화암층, 연암층)\n",
    "\n",
    "### 2. 학습, 평가\n",
    "- 학습데이터, 평가데이터 split\n",
    "- Decision Tree\n",
    "- xgboost\n",
    "- Random Forest\n",
    "- MLP\n",
    "- SVM\n",
    "\n",
    "- Stacking : Logistic Regression\n",
    "\n",
    "### 3. 모델 시각화\n"
   ]
  },
  {
   "cell_type": "markdown",
   "id": "9a4a62d9",
   "metadata": {},
   "source": [
    "### 1. 데이터 전처리\n",
    "    - null 값 삭제\n",
    "    - 지반명 숫자 지정\n",
    "    - 데이터 시각화(3d plotting)"
   ]
  },
  {
   "cell_type": "code",
   "execution_count": 1,
   "id": "1873b34d",
   "metadata": {},
   "outputs": [],
   "source": [
    "import pandas as pd\n",
    "import numpy as np"
   ]
  },
  {
   "cell_type": "code",
   "execution_count": 2,
   "id": "76c34e1c",
   "metadata": {},
   "outputs": [
    {
     "name": "stdout",
     "output_type": "stream",
     "text": [
      "<class 'pandas.core.frame.DataFrame'>\n",
      "RangeIndex: 8419 entries, 0 to 8418\n",
      "Data columns (total 10 columns):\n",
      " #   Column      Non-Null Count  Dtype  \n",
      "---  ------      --------------  -----  \n",
      " 0   Unnamed: 0  8419 non-null   int64  \n",
      " 1   시추공 코드      8419 non-null   int64  \n",
      " 2   x 좌표        8419 non-null   float64\n",
      " 3   y 좌표        8419 non-null   float64\n",
      " 4   표고          8419 non-null   float64\n",
      " 5   층의 시작 심도    8419 non-null   float64\n",
      " 6   층의 종료 심도    8419 non-null   float64\n",
      " 7   두께          8419 non-null   float64\n",
      " 8   지하수위        8419 non-null   float64\n",
      " 9   지반명         8419 non-null   object \n",
      "dtypes: float64(7), int64(2), object(1)\n",
      "memory usage: 657.9+ KB\n"
     ]
    },
    {
     "data": {
      "text/plain": [
       "None"
      ]
     },
     "metadata": {},
     "output_type": "display_data"
    },
    {
     "data": {
      "text/html": [
       "<div>\n",
       "<style scoped>\n",
       "    .dataframe tbody tr th:only-of-type {\n",
       "        vertical-align: middle;\n",
       "    }\n",
       "\n",
       "    .dataframe tbody tr th {\n",
       "        vertical-align: top;\n",
       "    }\n",
       "\n",
       "    .dataframe thead th {\n",
       "        text-align: right;\n",
       "    }\n",
       "</style>\n",
       "<table border=\"1\" class=\"dataframe\">\n",
       "  <thead>\n",
       "    <tr style=\"text-align: right;\">\n",
       "      <th></th>\n",
       "      <th>Unnamed: 0</th>\n",
       "      <th>시추공 코드</th>\n",
       "      <th>x 좌표</th>\n",
       "      <th>y 좌표</th>\n",
       "      <th>표고</th>\n",
       "      <th>층의 시작 심도</th>\n",
       "      <th>층의 종료 심도</th>\n",
       "      <th>두께</th>\n",
       "      <th>지하수위</th>\n",
       "      <th>지반명</th>\n",
       "    </tr>\n",
       "  </thead>\n",
       "  <tbody>\n",
       "    <tr>\n",
       "      <th>0</th>\n",
       "      <td>0</td>\n",
       "      <td>5001001</td>\n",
       "      <td>202508.166948</td>\n",
       "      <td>445914.007345</td>\n",
       "      <td>98.30</td>\n",
       "      <td>0.0</td>\n",
       "      <td>5.0</td>\n",
       "      <td>5.0</td>\n",
       "      <td>2.10</td>\n",
       "      <td>풍화암</td>\n",
       "    </tr>\n",
       "    <tr>\n",
       "      <th>1</th>\n",
       "      <td>1</td>\n",
       "      <td>5001002</td>\n",
       "      <td>202550.141173</td>\n",
       "      <td>445922.035045</td>\n",
       "      <td>99.00</td>\n",
       "      <td>1.2</td>\n",
       "      <td>4.5</td>\n",
       "      <td>3.3</td>\n",
       "      <td>2.00</td>\n",
       "      <td>풍화암</td>\n",
       "    </tr>\n",
       "    <tr>\n",
       "      <th>2</th>\n",
       "      <td>2</td>\n",
       "      <td>5001004</td>\n",
       "      <td>210131.229153</td>\n",
       "      <td>445708.363176</td>\n",
       "      <td>106.30</td>\n",
       "      <td>1.0</td>\n",
       "      <td>8.0</td>\n",
       "      <td>7.0</td>\n",
       "      <td>6.10</td>\n",
       "      <td>풍화암</td>\n",
       "    </tr>\n",
       "    <tr>\n",
       "      <th>3</th>\n",
       "      <td>3</td>\n",
       "      <td>5001005</td>\n",
       "      <td>210147.206086</td>\n",
       "      <td>445742.430977</td>\n",
       "      <td>101.59</td>\n",
       "      <td>0.3</td>\n",
       "      <td>5.0</td>\n",
       "      <td>4.7</td>\n",
       "      <td>1.79</td>\n",
       "      <td>풍화암</td>\n",
       "    </tr>\n",
       "    <tr>\n",
       "      <th>4</th>\n",
       "      <td>4</td>\n",
       "      <td>5001007</td>\n",
       "      <td>210196.111404</td>\n",
       "      <td>445725.362550</td>\n",
       "      <td>102.51</td>\n",
       "      <td>3.0</td>\n",
       "      <td>8.0</td>\n",
       "      <td>5.0</td>\n",
       "      <td>2.99</td>\n",
       "      <td>풍화암</td>\n",
       "    </tr>\n",
       "  </tbody>\n",
       "</table>\n",
       "</div>"
      ],
      "text/plain": [
       "   Unnamed: 0   시추공 코드           x 좌표           y 좌표      표고  층의 시작 심도  \\\n",
       "0           0  5001001  202508.166948  445914.007345   98.30       0.0   \n",
       "1           1  5001002  202550.141173  445922.035045   99.00       1.2   \n",
       "2           2  5001004  210131.229153  445708.363176  106.30       1.0   \n",
       "3           3  5001005  210147.206086  445742.430977  101.59       0.3   \n",
       "4           4  5001007  210196.111404  445725.362550  102.51       3.0   \n",
       "\n",
       "   층의 종료 심도   두께  지하수위  지반명  \n",
       "0       5.0  5.0  2.10  풍화암  \n",
       "1       4.5  3.3  2.00  풍화암  \n",
       "2       8.0  7.0  6.10  풍화암  \n",
       "3       5.0  4.7  1.79  풍화암  \n",
       "4       8.0  5.0  2.99  풍화암  "
      ]
     },
     "metadata": {},
     "output_type": "display_data"
    }
   ],
   "source": [
    "borehole_data=pd.read_csv('선행연구_mlp데이터.csv', encoding='EUC-KR')\n",
    "display(borehole_data.info())\n",
    "display(borehole_data.head(5))"
   ]
  },
  {
   "cell_type": "markdown",
   "id": "2b49e542",
   "metadata": {},
   "source": [
    "- null값 삭제"
   ]
  },
  {
   "cell_type": "code",
   "execution_count": 3,
   "id": "20470237",
   "metadata": {},
   "outputs": [
    {
     "name": "stdout",
     "output_type": "stream",
     "text": [
      "<class 'pandas.core.frame.DataFrame'>\n",
      "RangeIndex: 8419 entries, 0 to 8418\n",
      "Data columns (total 10 columns):\n",
      " #   Column      Non-Null Count  Dtype  \n",
      "---  ------      --------------  -----  \n",
      " 0   Unnamed: 0  8419 non-null   int64  \n",
      " 1   시추공 코드      8419 non-null   int64  \n",
      " 2   x 좌표        8419 non-null   float64\n",
      " 3   y 좌표        8419 non-null   float64\n",
      " 4   표고          8419 non-null   float64\n",
      " 5   층의 시작 심도    8419 non-null   float64\n",
      " 6   층의 종료 심도    8419 non-null   float64\n",
      " 7   두께          8419 non-null   float64\n",
      " 8   지하수위        8419 non-null   float64\n",
      " 9   지반명         8419 non-null   object \n",
      "dtypes: float64(7), int64(2), object(1)\n",
      "memory usage: 657.9+ KB\n"
     ]
    }
   ],
   "source": [
    "borehole_data = borehole_data.dropna(axis=0)\n",
    "borehole_data.info()"
   ]
  },
  {
   "cell_type": "markdown",
   "id": "1ab0c93e",
   "metadata": {},
   "source": [
    "- z좌표 설정"
   ]
  },
  {
   "cell_type": "code",
   "execution_count": 4,
   "id": "36a72e9e",
   "metadata": {},
   "outputs": [
    {
     "data": {
      "text/html": [
       "<div>\n",
       "<style scoped>\n",
       "    .dataframe tbody tr th:only-of-type {\n",
       "        vertical-align: middle;\n",
       "    }\n",
       "\n",
       "    .dataframe tbody tr th {\n",
       "        vertical-align: top;\n",
       "    }\n",
       "\n",
       "    .dataframe thead th {\n",
       "        text-align: right;\n",
       "    }\n",
       "</style>\n",
       "<table border=\"1\" class=\"dataframe\">\n",
       "  <thead>\n",
       "    <tr style=\"text-align: right;\">\n",
       "      <th></th>\n",
       "      <th>Unnamed: 0</th>\n",
       "      <th>시추공 코드</th>\n",
       "      <th>x 좌표</th>\n",
       "      <th>y 좌표</th>\n",
       "      <th>표고</th>\n",
       "      <th>층의 시작 심도</th>\n",
       "      <th>층의 종료 심도</th>\n",
       "      <th>두께</th>\n",
       "      <th>지하수위</th>\n",
       "      <th>지반명</th>\n",
       "      <th>z 좌표</th>\n",
       "    </tr>\n",
       "  </thead>\n",
       "  <tbody>\n",
       "    <tr>\n",
       "      <th>0</th>\n",
       "      <td>0</td>\n",
       "      <td>5001001</td>\n",
       "      <td>202508.166948</td>\n",
       "      <td>445914.007345</td>\n",
       "      <td>98.30</td>\n",
       "      <td>0.0</td>\n",
       "      <td>5.0</td>\n",
       "      <td>5.0</td>\n",
       "      <td>2.10</td>\n",
       "      <td>풍화암</td>\n",
       "      <td>98.30</td>\n",
       "    </tr>\n",
       "    <tr>\n",
       "      <th>1</th>\n",
       "      <td>1</td>\n",
       "      <td>5001002</td>\n",
       "      <td>202550.141173</td>\n",
       "      <td>445922.035045</td>\n",
       "      <td>99.00</td>\n",
       "      <td>1.2</td>\n",
       "      <td>4.5</td>\n",
       "      <td>3.3</td>\n",
       "      <td>2.00</td>\n",
       "      <td>풍화암</td>\n",
       "      <td>97.80</td>\n",
       "    </tr>\n",
       "    <tr>\n",
       "      <th>2</th>\n",
       "      <td>2</td>\n",
       "      <td>5001004</td>\n",
       "      <td>210131.229153</td>\n",
       "      <td>445708.363176</td>\n",
       "      <td>106.30</td>\n",
       "      <td>1.0</td>\n",
       "      <td>8.0</td>\n",
       "      <td>7.0</td>\n",
       "      <td>6.10</td>\n",
       "      <td>풍화암</td>\n",
       "      <td>105.30</td>\n",
       "    </tr>\n",
       "    <tr>\n",
       "      <th>3</th>\n",
       "      <td>3</td>\n",
       "      <td>5001005</td>\n",
       "      <td>210147.206086</td>\n",
       "      <td>445742.430977</td>\n",
       "      <td>101.59</td>\n",
       "      <td>0.3</td>\n",
       "      <td>5.0</td>\n",
       "      <td>4.7</td>\n",
       "      <td>1.79</td>\n",
       "      <td>풍화암</td>\n",
       "      <td>101.29</td>\n",
       "    </tr>\n",
       "    <tr>\n",
       "      <th>4</th>\n",
       "      <td>4</td>\n",
       "      <td>5001007</td>\n",
       "      <td>210196.111404</td>\n",
       "      <td>445725.362550</td>\n",
       "      <td>102.51</td>\n",
       "      <td>3.0</td>\n",
       "      <td>8.0</td>\n",
       "      <td>5.0</td>\n",
       "      <td>2.99</td>\n",
       "      <td>풍화암</td>\n",
       "      <td>99.51</td>\n",
       "    </tr>\n",
       "  </tbody>\n",
       "</table>\n",
       "</div>"
      ],
      "text/plain": [
       "   Unnamed: 0   시추공 코드           x 좌표           y 좌표      표고  층의 시작 심도  \\\n",
       "0           0  5001001  202508.166948  445914.007345   98.30       0.0   \n",
       "1           1  5001002  202550.141173  445922.035045   99.00       1.2   \n",
       "2           2  5001004  210131.229153  445708.363176  106.30       1.0   \n",
       "3           3  5001005  210147.206086  445742.430977  101.59       0.3   \n",
       "4           4  5001007  210196.111404  445725.362550  102.51       3.0   \n",
       "\n",
       "   층의 종료 심도   두께  지하수위  지반명    z 좌표  \n",
       "0       5.0  5.0  2.10  풍화암   98.30  \n",
       "1       4.5  3.3  2.00  풍화암   97.80  \n",
       "2       8.0  7.0  6.10  풍화암  105.30  \n",
       "3       5.0  4.7  1.79  풍화암  101.29  \n",
       "4       8.0  5.0  2.99  풍화암   99.51  "
      ]
     },
     "execution_count": 4,
     "metadata": {},
     "output_type": "execute_result"
    }
   ],
   "source": [
    "borehole_data['z 좌표'] = borehole_data['표고'] - borehole_data['층의 시작 심도']\n",
    "\n",
    "borehole_data.head(5)"
   ]
  },
  {
   "cell_type": "markdown",
   "id": "26924552",
   "metadata": {},
   "source": [
    "- 데이터 시각화"
   ]
  },
  {
   "cell_type": "code",
   "execution_count": 5,
   "id": "966daa2f",
   "metadata": {},
   "outputs": [],
   "source": [
    "from mpl_toolkits.mplot3d import Axes3D\n",
    "import matplotlib.pyplot as plt"
   ]
  },
  {
   "cell_type": "code",
   "execution_count": 6,
   "id": "702aa192",
   "metadata": {},
   "outputs": [
    {
     "name": "stderr",
     "output_type": "stream",
     "text": [
      "/var/folders/jm/y3p2nc3142sgnvz8slzmdrdc0000gq/T/ipykernel_3441/240014205.py:8: UserWarning: No data for colormapping provided via 'c'. Parameters 'cmap' will be ignored\n",
      "  map=ax.scatter(x,y,z, marker='o', s=20, cmap='rainbow')\n"
     ]
    },
    {
     "data": {
      "image/png": "[encoded data removed]",
      "text/plain": [
       "<Figure size 600x600 with 2 Axes>"
      ]
     },
     "metadata": {},
     "output_type": "display_data"
    }
   ],
   "source": [
    "fig=plt.figure(figsize=(6,6))\n",
    "ax=fig.add_subplot(111, projection='3d')\n",
    "\n",
    "x=borehole_data['x 좌표']\n",
    "y=borehole_data['y 좌표']\n",
    "z=borehole_data['z 좌표']\n",
    "\n",
    "map=ax.scatter(x,y,z, marker='o', s=20, cmap='rainbow')\n",
    "ax.set_xlabel('x')\n",
    "ax.set_ylabel('y')\n",
    "ax.set_zlabel('z(m)')\n",
    "\n",
    "plt.colorbar(map, label='label', shrink=0.5, location='left')\n",
    "\n",
    "plt.suptitle('rock head',fontsize=16, x=0.6, y=0.8)\n",
    "\n",
    "plt.show()"
   ]
  },
  {
   "cell_type": "markdown",
   "id": "9ac7ba9e",
   "metadata": {},
   "source": [
    "### 2. 학습, 평가\n",
    "- 학습, 예측 데이터 split\n",
    "- Decision Tree\n",
    "- xgboost\n",
    "- Random Forest\n",
    "- SVM\n",
    "- MLP\n",
    "- stacking : logistic regression"
   ]
  },
  {
   "cell_type": "code",
   "execution_count": 7,
   "id": "cb6b438b",
   "metadata": {},
   "outputs": [],
   "source": [
    "from sklearn.model_selection import train_test_split\n",
    "from sklearn.model_selection import GridSearchCV"
   ]
  },
  {
   "cell_type": "markdown",
   "id": "48a038b2",
   "metadata": {},
   "source": [
    "- 학습, 예측 데이터 split"
   ]
  },
  {
   "cell_type": "code",
   "execution_count": 8,
   "id": "4cd9cd0f",
   "metadata": {},
   "outputs": [
    {
     "data": {
      "text/html": [
       "<div>\n",
       "<style scoped>\n",
       "    .dataframe tbody tr th:only-of-type {\n",
       "        vertical-align: middle;\n",
       "    }\n",
       "\n",
       "    .dataframe tbody tr th {\n",
       "        vertical-align: top;\n",
       "    }\n",
       "\n",
       "    .dataframe thead th {\n",
       "        text-align: right;\n",
       "    }\n",
       "</style>\n",
       "<table border=\"1\" class=\"dataframe\">\n",
       "  <thead>\n",
       "    <tr style=\"text-align: right;\">\n",
       "      <th></th>\n",
       "      <th>x 좌표</th>\n",
       "      <th>y 좌표</th>\n",
       "    </tr>\n",
       "  </thead>\n",
       "  <tbody>\n",
       "    <tr>\n",
       "      <th>0</th>\n",
       "      <td>202508.166948</td>\n",
       "      <td>445914.007345</td>\n",
       "    </tr>\n",
       "    <tr>\n",
       "      <th>1</th>\n",
       "      <td>202550.141173</td>\n",
       "      <td>445922.035045</td>\n",
       "    </tr>\n",
       "    <tr>\n",
       "      <th>2</th>\n",
       "      <td>210131.229153</td>\n",
       "      <td>445708.363176</td>\n",
       "    </tr>\n",
       "  </tbody>\n",
       "</table>\n",
       "</div>"
      ],
      "text/plain": [
       "            x 좌표           y 좌표\n",
       "0  202508.166948  445914.007345\n",
       "1  202550.141173  445922.035045\n",
       "2  210131.229153  445708.363176"
      ]
     },
     "metadata": {},
     "output_type": "display_data"
    },
    {
     "data": {
      "text/plain": [
       "0     98.3\n",
       "1     97.8\n",
       "2    105.3\n",
       "Name: z 좌표, dtype: float64"
      ]
     },
     "metadata": {},
     "output_type": "display_data"
    }
   ],
   "source": [
    "#origin data(X,Y)\n",
    "X=borehole_data.iloc[:,[2,3]] #x좌표, y좌표\n",
    "Y=borehole_data.iloc[:,10]\n",
    "display(X.head(3))\n",
    "display(Y.head(3))\n",
    "\n",
    "X_train, X_test, y_train, y_test=train_test_split(X,Y,test_size=0.2,random_state=150)"
   ]
  },
  {
   "cell_type": "markdown",
   "id": "a5a26444",
   "metadata": {},
   "source": [
    "- Decision Tree"
   ]
  },
  {
   "cell_type": "code",
   "execution_count": 9,
   "id": "75aaa49f",
   "metadata": {},
   "outputs": [
    {
     "name": "stdout",
     "output_type": "stream",
     "text": [
      "최상의 매개변수: {'criterion': 'squared_error', 'max_depth': 19, 'min_samples_leaf': 3}\n",
      "훈련 점수: 30.277\n",
      "테스트 점수: 29.613\n"
     ]
    }
   ],
   "source": [
    "#origin data\n",
    "from sklearn.tree import DecisionTreeRegressor\n",
    "from sklearn.metrics import mean_squared_error\n",
    "\n",
    "dt_reg=DecisionTreeRegressor(random_state=150)\n",
    "dt_parameters = {'max_depth': [5,7,10,13,16,19],\n",
    "                 'min_samples_leaf':[3,6,9,12,15,18,21],\n",
    "                 'criterion':['squared_error']\n",
    "                }\n",
    "\n",
    "grid_dt = GridSearchCV(dt_reg, param_grid = dt_parameters, cv = 5, scoring='neg_mean_squared_error')\n",
    "\n",
    "grid_dt.fit(X_train,y_train)\n",
    "\n",
    "best_params = grid_dt.best_params_     \t  # 최상의 매개변수를 추출\n",
    "print(\"최상의 매개변수:\", best_params)\t\t  # 최상의 매개변수를 출력\n",
    "best_score = np.sqrt(-grid_dt.best_score_)   # 최상의 점수를 계산\n",
    "print(\"훈련 점수: {:.3f}\".format(best_score))  # 최상의 점수를 출력\n",
    "y_pred = grid_dt.predict(X_test)    \t\t  # 테스트 세트에 대한 예측\n",
    "rmse_test = mean_squared_error(y_test, y_pred)**0.5    # 평균 제곱근 오차를 계산\n",
    "print('테스트 점수: {:.3f}'.format(rmse_test))    # 테스트 세트 점수를 출력"
   ]
  },
  {
   "cell_type": "markdown",
   "id": "5eda7bf7",
   "metadata": {},
   "source": [
    "- XGBoost"
   ]
  },
  {
   "cell_type": "code",
   "execution_count": 10,
   "id": "7bc289cd",
   "metadata": {},
   "outputs": [
    {
     "name": "stdout",
     "output_type": "stream",
     "text": [
      "최상의 매개변수: {'colsample_bytree': 0.8, 'gamma': 0, 'learning_rate': 0.1, 'max_depth': 3, 'n_estimators': 300}\n",
      "훈련 점수: 35.953\n",
      "테스트 점수: 35.558\n"
     ]
    }
   ],
   "source": [
    "#origin data\n",
    "from xgboost import XGBRegressor\n",
    "\n",
    "xgb_reg= XGBRegressor()\n",
    "\n",
    "xgb_param_grid={\n",
    "    'n_estimators' : [100,200,300,400,500],\n",
    "    'learning_rate' : [0.01,0.05,0.1,0.15],\n",
    "    'max_depth' : [3,5,7,10,15],\n",
    "    'gamma' : [0,1,2,3],\n",
    "    'colsample_bytree' : [0.8,0.9],\n",
    "    \n",
    "}\n",
    "\n",
    "grid_xgb=GridSearchCV(xgb_reg, param_grid = xgb_param_grid, scoring=\"neg_mean_squared_error\", n_jobs=-1)\n",
    "grid_xgb.fit(X_train,y_train)\n",
    "\n",
    "best_params = grid_xgb.best_params_     \t  # 최상의 매개변수를 추출\n",
    "print(\"최상의 매개변수:\", best_params)\t\t  # 최상의 매개변수를 출력\n",
    "best_score = np.sqrt(-grid_xgb.best_score_)   # 최상의 점수를 계산\n",
    "print(\"훈련 점수: {:.3f}\".format(best_score))  # 최상의 점수를 출력\n",
    "y_pred = grid_xgb.predict(X_test)    \t\t  # 테스트 세트에 대한 예측\n",
    "rmse_test = mean_squared_error(y_test, y_pred)**0.5    # 평균 제곱근 오차를 계산\n",
    "print('테스트 점수: {:.3f}'.format(rmse_test))    # 테스트 세트 점수를 출력"
   ]
  },
  {
   "cell_type": "markdown",
   "id": "ac7b94ed",
   "metadata": {},
   "source": [
    "- Random Forest"
   ]
  },
  {
   "cell_type": "code",
   "execution_count": 11,
   "id": "6c4ed865",
   "metadata": {},
   "outputs": [
    {
     "name": "stdout",
     "output_type": "stream",
     "text": [
      "최상의 매개변수: {'max_depth': 24, 'min_samples_leaf': 1, 'min_samples_split': 2}\n",
      "훈련 점수: 27.368\n",
      "테스트 점수: 24.823\n"
     ]
    }
   ],
   "source": [
    "#origin data\n",
    "from sklearn.ensemble import RandomForestRegressor\n",
    "\n",
    "rf_reg = RandomForestRegressor(n_estimators=100, random_state=0, n_jobs=-1)\n",
    "rf_params = {\n",
    "    'max_depth': [8, 16, 24],\n",
    "    'min_samples_leaf' : [1, 6, 12],\n",
    "    'min_samples_split' : [2, 8, 16]\n",
    "}\n",
    "grid_rf = GridSearchCV(rf_reg , param_grid=rf_params , cv=2, n_jobs=-1, scoring=\"neg_mean_squared_error\")\n",
    "\n",
    "grid_rf.fit(X_train, y_train)\n",
    "\n",
    "best_params = grid_rf.best_params_     \t  # 최상의 매개변수를 추출\n",
    "print(\"최상의 매개변수:\", best_params)\t\t  # 최상의 매개변수를 출력\n",
    "best_score = np.sqrt(-grid_rf.best_score_)   # 최상의 점수를 계산\n",
    "print(\"훈련 점수: {:.3f}\".format(best_score))  # 최상의 점수를 출력\n",
    "y_pred = grid_rf.predict(X_test)    \t\t  # 테스트 세트에 대한 예측\n",
    "rmse_test = mean_squared_error(y_test, y_pred)**0.5    # 평균 제곱근 오차를 계산\n",
    "print('테스트 점수: {:.3f}'.format(rmse_test))    # 테스트 세트 점수를 출력"
   ]
  },
  {
   "cell_type": "markdown",
   "id": "6cc590fd",
   "metadata": {},
   "source": [
    "- SVM"
   ]
  },
  {
   "cell_type": "code",
   "execution_count": 12,
   "id": "c9a30e58",
   "metadata": {},
   "outputs": [
    {
     "name": "stdout",
     "output_type": "stream",
     "text": [
      "최상의 매개변수: {'C': 100, 'gamma': 0.001}\n",
      "훈련 점수: 32.801\n",
      "테스트 점수: 31.676\n"
     ]
    }
   ],
   "source": [
    "#origin data\n",
    "from sklearn.svm import SVR\n",
    "\n",
    "svm_reg=SVR(kernel='rbf')\n",
    "svm_parameters = {'C': [0.001, 0.01, 0.1, 1, 10, 25, 50, 100,500,1000],\n",
    "             'gamma':[0.001, 0.01, 0.1, 1, 10, 25, 50, 100]}\n",
    "\n",
    "grid_svm = GridSearchCV(svm_reg, param_grid = svm_parameters, cv = 5, scoring='neg_mean_squared_error')\n",
    "\n",
    "grid_svm.fit(X_train, y_train)\n",
    "\n",
    "best_params = grid_svm.best_params_     \t  # 최상의 매개변수를 추출\n",
    "print(\"최상의 매개변수:\", best_params)\t\t  # 최상의 매개변수를 출력\n",
    "best_score = np.sqrt(-grid_svm.best_score_)   # 최상의 점수를 계산\n",
    "print(\"훈련 점수: {:.3f}\".format(best_score))  # 최상의 점수를 출력\n",
    "y_pred = grid_svm.predict(X_test)    \t\t  # 테스트 세트에 대한 예측\n",
    "rmse_test = mean_squared_error(y_test, y_pred)**0.5    # 평균 제곱근 오차를 계산\n",
    "print('테스트 점수: {:.3f}'.format(rmse_test))    # 테스트 세트 점수를 출력"
   ]
  },
  {
   "cell_type": "markdown",
   "id": "525d9b64",
   "metadata": {},
   "source": [
    "- MLP"
   ]
  },
  {
   "cell_type": "code",
   "execution_count": 13,
   "id": "4b6f8336",
   "metadata": {},
   "outputs": [
    {
     "name": "stdout",
     "output_type": "stream",
     "text": [
      "최상의 매개변수: {'activation': 'tanh', 'alpha': 0.0001, 'early_stopping': False, 'hidden_layer_sizes': 24, 'learning_rate': 'constant', 'learning_rate_init': 0.001, 'max_iter': 10000, 'power_t': 0.5, 'solver': 'adam', 'warm_start': False}\n",
      "훈련 점수: 40.412\n",
      "테스트 점수: 40.144\n"
     ]
    }
   ],
   "source": [
    "#origin data\n",
    "from sklearn.neural_network import MLPRegressor\n",
    "\n",
    "mlp_reg = MLPRegressor()\n",
    "\n",
    "mlp_parameters={'hidden_layer_sizes': [i for i in range(4,25)],\n",
    "              'activation': ['tanh'],\n",
    "              'solver': ['adam'],\n",
    "              'learning_rate': ['constant'],\n",
    "              'learning_rate_init': [0.001],\n",
    "              'power_t': [0.5],\n",
    "              'alpha': [0.0001],\n",
    "              'max_iter': [10000],\n",
    "              'early_stopping': [False],\n",
    "              'warm_start': [False]}\n",
    "\n",
    "grid_mlp = GridSearchCV(mlp_reg, param_grid=mlp_parameters, scoring='neg_mean_squared_error')\n",
    "\n",
    "grid_mlp.fit(X_train, y_train)\n",
    "\n",
    "best_params = grid_mlp.best_params_     \t  # 최상의 매개변수를 추출\n",
    "print(\"최상의 매개변수:\", best_params)\t\t  # 최상의 매개변수를 출력\n",
    "best_score = np.sqrt(-grid_mlp.best_score_)   # 최상의 점수를 계산\n",
    "print(\"훈련 점수: {:.3f}\".format(best_score))  # 최상의 점수를 출력\n",
    "y_pred = grid_mlp.predict(X_test)    \t\t  # 테스트 세트에 대한 예측\n",
    "rmse_test = mean_squared_error(y_test, y_pred)**0.5    # 평균 제곱근 오차를 계산\n",
    "print('테스트 점수: {:.3f}'.format(rmse_test))    # 테스트 세트 점수를 출력"
   ]
  },
  {
   "cell_type": "markdown",
   "id": "a2f68010",
   "metadata": {},
   "source": [
    "- Stacking"
   ]
  },
  {
   "cell_type": "code",
   "execution_count": 14,
   "id": "2a4a2d32",
   "metadata": {},
   "outputs": [
    {
     "name": "stdout",
     "output_type": "stream",
     "text": [
      "stacking 모델의 테스트 점수: 676.397\n"
     ]
    }
   ],
   "source": [
    "from sklearn.ensemble import StackingRegressor\n",
    "from sklearn.metrics import mean_squared_error\n",
    "\n",
    "estimators = [\n",
    "     ('dt_reg', grid_dt),\n",
    "     ('xgb_reg', grid_xgb),\n",
    "     ('rf_reg', grid_rf),\n",
    "     ('svm_reg', grid_svm),\n",
    "     ('mlp_reg',grid_mlp)\n",
    "]\n",
    "\n",
    "stacking_reg = StackingRegressor(estimators=estimators, final_estimator=RandomForestRegressor(n_estimators = 10, random_state = 42), cv=5)\n",
    "stacking_reg.fit(X_train,y_train)\n",
    "stacking_reg_pred=stacking_reg.predict(X_test)\n",
    "print('stacking 모델의 테스트 점수: {0:.3f}'.format(mean_squared_error(y_test , stacking_reg_pred)))"
   ]
  },
  {
   "cell_type": "code",
   "execution_count": 15,
   "id": "6fd8c8cd",
   "metadata": {},
   "outputs": [
    {
     "name": "stdout",
     "output_type": "stream",
     "text": [
      "voting 모델의 테스트 점수: 798.548\n"
     ]
    }
   ],
   "source": [
    "from sklearn.ensemble import VotingRegressor\n",
    "\n",
    "estimators = [\n",
    "     ('dt_reg', grid_dt),\n",
    "     ('xgb_reg', grid_xgb),\n",
    "     ('rf_reg', grid_rf),\n",
    "     ('svm_reg', grid_svm),\n",
    "     ('mlp_reg',grid_mlp)\n",
    "]\n",
    "voting_reg = VotingRegressor(estimators=estimators)\n",
    "voting_reg.fit(X_train,y_train)\n",
    "voting_reg_pred=voting_reg.predict(X_test)\n",
    "print('voting 모델의 테스트 점수: {0:.3f}'.format(mean_squared_error(y_test , voting_reg_pred)))"
   ]
  },
  {
   "cell_type": "markdown",
   "id": "10f6c88e",
   "metadata": {},
   "source": [
    "### 2-1. 회귀 모델 평가\n",
    "- MAE\n",
    "- MAPE\n",
    "- MSE\n",
    "- RMSE\n",
    "- R2 Score"
   ]
  },
  {
   "cell_type": "code",
   "execution_count": 19,
   "id": "89143975",
   "metadata": {},
   "outputs": [
    {
     "name": "stdout",
     "output_type": "stream",
     "text": [
      "Stacking MAE: 14.296\n",
      "Stacking MAPE: 634457915751750.250\n",
      "Stacking MSE: 676.397\n",
      "Stacking R2 Score: 0.577\n",
      "\n",
      "Voting MAE: 19.308\n",
      "Voting MAPE: 608831247605798.750\n",
      "Voting MSE: 798.548\n",
      "Voting R2 Score: 0.500\n"
     ]
    }
   ],
   "source": [
    "# original\n",
    "from sklearn.metrics import mean_absolute_error, mean_absolute_percentage_error, mean_squared_error\n",
    "from sklearn.metrics import r2_score\n",
    "\n",
    "s_mae = mean_absolute_error(y_test, stacking_reg.predict(X_test))\n",
    "s_mape = mean_absolute_percentage_error(y_test, stacking_reg.predict(X_test))\n",
    "s_mse = mean_squared_error(y_test, stacking_reg.predict(X_test))\n",
    "s_r2 = r2_score(y_test, stacking_reg.predict(X_test))\n",
    "\n",
    "print('Stacking MAE: {0:.3f}'.format(s_mae))\n",
    "print('Stacking MAPE: {0:.3f}'.format(s_mape))\n",
    "print('Stacking MSE: {0:.3f}'.format(s_mse))\n",
    "print('Stacking R2 Score: {0:.3f}'.format(s_r2))\n",
    "print()\n",
    "\n",
    "v_mae = mean_absolute_error(y_test, voting_reg.predict(X_test))\n",
    "v_mape = mean_absolute_percentage_error(y_test, voting_reg.predict(X_test))\n",
    "v_mse = mean_squared_error(y_test, voting_reg.predict(X_test))\n",
    "v_r2 = r2_score(y_test, voting_reg.predict(X_test))\n",
    "\n",
    "print('Voting MAE: {0:.3f}'.format(v_mae))\n",
    "print('Voting MAPE: {0:.3f}'.format(v_mape))\n",
    "print('Voting MSE: {0:.3f}'.format(v_mse))\n",
    "print('Voting R2 Score: {0:.3f}'.format(v_r2))"
   ]
  },
  {
   "cell_type": "markdown",
   "id": "7a7af47d",
   "metadata": {},
   "source": [
    "### 3. 모델 시각화"
   ]
  },
  {
   "cell_type": "code",
   "execution_count": 17,
   "id": "ab19ab67",
   "metadata": {},
   "outputs": [
    {
     "ename": "KeyError",
     "evalue": "'좌표(x)'",
     "output_type": "error",
     "traceback": [
      "\u001b[0;31m---------------------------------------------------------------------------\u001b[0m",
      "\u001b[0;31mKeyError\u001b[0m                                  Traceback (most recent call last)",
      "File \u001b[0;32m~/사환졸업논문/venv/lib/python3.9/site-packages/pandas/core/indexes/base.py:3790\u001b[0m, in \u001b[0;36mIndex.get_loc\u001b[0;34m(self, key)\u001b[0m\n\u001b[1;32m   3789\u001b[0m \u001b[38;5;28;01mtry\u001b[39;00m:\n\u001b[0;32m-> 3790\u001b[0m     \u001b[38;5;28;01mreturn\u001b[39;00m \u001b[38;5;28;43mself\u001b[39;49m\u001b[38;5;241;43m.\u001b[39;49m\u001b[43m_engine\u001b[49m\u001b[38;5;241;43m.\u001b[39;49m\u001b[43mget_loc\u001b[49m\u001b[43m(\u001b[49m\u001b[43mcasted_key\u001b[49m\u001b[43m)\u001b[49m\n\u001b[1;32m   3791\u001b[0m \u001b[38;5;28;01mexcept\u001b[39;00m \u001b[38;5;167;01mKeyError\u001b[39;00m \u001b[38;5;28;01mas\u001b[39;00m err:\n",
      "File \u001b[0;32mindex.pyx:152\u001b[0m, in \u001b[0;36mpandas._libs.index.IndexEngine.get_loc\u001b[0;34m()\u001b[0m\n",
      "File \u001b[0;32mindex.pyx:181\u001b[0m, in \u001b[0;36mpandas._libs.index.IndexEngine.get_loc\u001b[0;34m()\u001b[0m\n",
      "File \u001b[0;32mpandas/_libs/hashtable_class_helper.pxi:7080\u001b[0m, in \u001b[0;36mpandas._libs.hashtable.PyObjectHashTable.get_item\u001b[0;34m()\u001b[0m\n",
      "File \u001b[0;32mpandas/_libs/hashtable_class_helper.pxi:7088\u001b[0m, in \u001b[0;36mpandas._libs.hashtable.PyObjectHashTable.get_item\u001b[0;34m()\u001b[0m\n",
      "\u001b[0;31mKeyError\u001b[0m: '좌표(x)'",
      "\nThe above exception was the direct cause of the following exception:\n",
      "\u001b[0;31mKeyError\u001b[0m                                  Traceback (most recent call last)",
      "Cell \u001b[0;32mIn[17], line 7\u001b[0m\n\u001b[1;32m      3\u001b[0m \u001b[38;5;28;01mfrom\u001b[39;00m \u001b[38;5;21;01mmatplotlib\u001b[39;00m \u001b[38;5;28;01mimport\u001b[39;00m cm\n\u001b[1;32m      5\u001b[0m borehole_model_df\u001b[38;5;241m=\u001b[39mpd\u001b[38;5;241m.\u001b[39mDataFrame(columns\u001b[38;5;241m=\u001b[39m[\u001b[38;5;124m'\u001b[39m\u001b[38;5;124m좌표(x)\u001b[39m\u001b[38;5;124m'\u001b[39m,\u001b[38;5;124m'\u001b[39m\u001b[38;5;124m좌표(y)\u001b[39m\u001b[38;5;124m'\u001b[39m,\u001b[38;5;124m'\u001b[39m\u001b[38;5;124m층_표고\u001b[39m\u001b[38;5;124m'\u001b[39m])\n\u001b[0;32m----> 7\u001b[0m xmin\u001b[38;5;241m=\u001b[39m\u001b[38;5;28mint\u001b[39m(\u001b[43mborehole_data\u001b[49m\u001b[43m[\u001b[49m\u001b[38;5;124;43m'\u001b[39;49m\u001b[38;5;124;43m좌표(x)\u001b[39;49m\u001b[38;5;124;43m'\u001b[39;49m\u001b[43m]\u001b[49m\u001b[38;5;241m.\u001b[39mmin())\n\u001b[1;32m      8\u001b[0m xmax\u001b[38;5;241m=\u001b[39m\u001b[38;5;28mint\u001b[39m(borehole_data[\u001b[38;5;124m'\u001b[39m\u001b[38;5;124m좌표(x)\u001b[39m\u001b[38;5;124m'\u001b[39m]\u001b[38;5;241m.\u001b[39mmax())\n\u001b[1;32m      9\u001b[0m ymin\u001b[38;5;241m=\u001b[39m\u001b[38;5;28mint\u001b[39m(borehole_data[\u001b[38;5;124m'\u001b[39m\u001b[38;5;124m좌표(y)\u001b[39m\u001b[38;5;124m'\u001b[39m]\u001b[38;5;241m.\u001b[39mmin())\n",
      "File \u001b[0;32m~/사환졸업논문/venv/lib/python3.9/site-packages/pandas/core/frame.py:3893\u001b[0m, in \u001b[0;36mDataFrame.__getitem__\u001b[0;34m(self, key)\u001b[0m\n\u001b[1;32m   3891\u001b[0m \u001b[38;5;28;01mif\u001b[39;00m \u001b[38;5;28mself\u001b[39m\u001b[38;5;241m.\u001b[39mcolumns\u001b[38;5;241m.\u001b[39mnlevels \u001b[38;5;241m>\u001b[39m \u001b[38;5;241m1\u001b[39m:\n\u001b[1;32m   3892\u001b[0m     \u001b[38;5;28;01mreturn\u001b[39;00m \u001b[38;5;28mself\u001b[39m\u001b[38;5;241m.\u001b[39m_getitem_multilevel(key)\n\u001b[0;32m-> 3893\u001b[0m indexer \u001b[38;5;241m=\u001b[39m \u001b[38;5;28;43mself\u001b[39;49m\u001b[38;5;241;43m.\u001b[39;49m\u001b[43mcolumns\u001b[49m\u001b[38;5;241;43m.\u001b[39;49m\u001b[43mget_loc\u001b[49m\u001b[43m(\u001b[49m\u001b[43mkey\u001b[49m\u001b[43m)\u001b[49m\n\u001b[1;32m   3894\u001b[0m \u001b[38;5;28;01mif\u001b[39;00m is_integer(indexer):\n\u001b[1;32m   3895\u001b[0m     indexer \u001b[38;5;241m=\u001b[39m [indexer]\n",
      "File \u001b[0;32m~/사환졸업논문/venv/lib/python3.9/site-packages/pandas/core/indexes/base.py:3797\u001b[0m, in \u001b[0;36mIndex.get_loc\u001b[0;34m(self, key)\u001b[0m\n\u001b[1;32m   3792\u001b[0m     \u001b[38;5;28;01mif\u001b[39;00m \u001b[38;5;28misinstance\u001b[39m(casted_key, \u001b[38;5;28mslice\u001b[39m) \u001b[38;5;129;01mor\u001b[39;00m (\n\u001b[1;32m   3793\u001b[0m         \u001b[38;5;28misinstance\u001b[39m(casted_key, abc\u001b[38;5;241m.\u001b[39mIterable)\n\u001b[1;32m   3794\u001b[0m         \u001b[38;5;129;01mand\u001b[39;00m \u001b[38;5;28many\u001b[39m(\u001b[38;5;28misinstance\u001b[39m(x, \u001b[38;5;28mslice\u001b[39m) \u001b[38;5;28;01mfor\u001b[39;00m x \u001b[38;5;129;01min\u001b[39;00m casted_key)\n\u001b[1;32m   3795\u001b[0m     ):\n\u001b[1;32m   3796\u001b[0m         \u001b[38;5;28;01mraise\u001b[39;00m InvalidIndexError(key)\n\u001b[0;32m-> 3797\u001b[0m     \u001b[38;5;28;01mraise\u001b[39;00m \u001b[38;5;167;01mKeyError\u001b[39;00m(key) \u001b[38;5;28;01mfrom\u001b[39;00m \u001b[38;5;21;01merr\u001b[39;00m\n\u001b[1;32m   3798\u001b[0m \u001b[38;5;28;01mexcept\u001b[39;00m \u001b[38;5;167;01mTypeError\u001b[39;00m:\n\u001b[1;32m   3799\u001b[0m     \u001b[38;5;66;03m# If we have a listlike key, _check_indexing_error will raise\u001b[39;00m\n\u001b[1;32m   3800\u001b[0m     \u001b[38;5;66;03m#  InvalidIndexError. Otherwise we fall through and re-raise\u001b[39;00m\n\u001b[1;32m   3801\u001b[0m     \u001b[38;5;66;03m#  the TypeError.\u001b[39;00m\n\u001b[1;32m   3802\u001b[0m     \u001b[38;5;28mself\u001b[39m\u001b[38;5;241m.\u001b[39m_check_indexing_error(key)\n",
      "\u001b[0;31mKeyError\u001b[0m: '좌표(x)'"
     ]
    }
   ],
   "source": [
    "import matplotlib.pyplot as plt\n",
    "\n",
    "from matplotlib import cm\n",
    "\n",
    "borehole_model_df=pd.DataFrame(columns=['좌표(x)','좌표(y)','층_표고'])\n",
    "\n",
    "xmin=int(borehole_data['좌표(x)'].min())\n",
    "xmax=int(borehole_data['좌표(x)'].max())\n",
    "ymin=int(borehole_data['좌표(y)'].min())\n",
    "ymax=int(borehole_data['좌표(y)'].max())\n",
    "zmin=int(borehole_data['층_표고'].min())\n",
    "zmax=int(borehole_data['층_표고'].max())\n",
    "\n",
    "plt.style.use('_mpl-gallery')\n",
    "\n",
    "# Make data\n",
    "X = np.arange(xmin, xmax, 1)\n",
    "Y = np.arange(ymin, ymax, 1)\n",
    "borehole_model_df['좌표(x)'] = X\n",
    "borehole_model_df['좌표(y)'] = Y\n",
    "\n",
    "Z_s = stacking_reg.predict(borehole_model_df[:, [0,1]])\n",
    "Z_v = voting_reg.predict(borehole_model_df[:, [0,1]])\n",
    "\n",
    "fig, ax = plt.subplots(subplot_kw={\"projection\": \"3d\"})\n",
    "ax.plot_surface(X, Y, Z_s, vmin=Z_s.min() * 2, cmap=cm.Blues)\n",
    "\n",
    "ax.set(xticklabels=[],\n",
    "       yticklabels=[],\n",
    "       zticklabels=[])\n",
    "\n",
    "plt.show()\n",
    "\n",
    "fig, ax = plt.subplots(subplot_kw={\"projection\": \"3d\"})\n",
    "ax.plot_surface(X, Y, Z_v, vmin=Z_v.min() * 2, cmap=cm.Blues)\n",
    "\n",
    "ax.set(xticklabels=[],\n",
    "       yticklabels=[],\n",
    "       zticklabels=[])\n",
    "\n",
    "plt.show()"
   ]
  }
 ],
 "metadata": {
  "kernelspec": {
   "display_name": "Python 3 (ipykernel)",
   "language": "python",
   "name": "python3"
  },
  "language_info": {
   "codemirror_mode": {
    "name": "ipython",
    "version": 3
   },
   "file_extension": ".py",
   "mimetype": "text/x-python",
   "name": "python",
   "nbconvert_exporter": "python",
   "pygments_lexer": "ipython3",
   "version": "3.9.7"
  }
 },
 "nbformat": 4,
 "nbformat_minor": 5
}
