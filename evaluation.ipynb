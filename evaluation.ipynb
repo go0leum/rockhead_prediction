{
 "cells": [
  {
   "cell_type": "markdown",
   "metadata": {},
   "source": [
    "# Evaluation"
   ]
  },
  {
   "cell_type": "markdown",
   "metadata": {},
   "source": [
    "1. autogluon top10 model evaluation"
   ]
  },
  {
   "cell_type": "code",
   "execution_count": null,
   "metadata": {},
   "outputs": [],
   "source": [
    "import pandas as pd\n",
    "from autogluon.tabular import TabularDataset, TabularPredictor\n",
    "import utils.eda_utils as eda_utils \n",
    "from sklearn.metrics import mean_absolute_error, mean_squared_error, root_mean_squared_error, r2_score\n",
    "import numpy as np"
   ]
  },
  {
   "cell_type": "code",
   "execution_count": null,
   "metadata": {},
   "outputs": [],
   "source": [
    "test_df = pd.read_csv('data/241005_Rockhead_Seoul_test(before_aumentation).csv')"
   ]
  },
  {
   "cell_type": "code",
   "execution_count": null,
   "metadata": {},
   "outputs": [],
   "source": [
    "test_df['ground_name'] = test_df['ground_name'].astype('category')\n",
    "test_df['rock_type'] = test_df['rock_type'].astype('category')\n",
    "\n",
    "test = TabularDataset(test_df.drop(['depth_start', 'dis_bin'], axis=1))\n",
    "y_test = test_df['depth_start'].values.tolist()"
   ]
  },
  {
   "cell_type": "code",
   "execution_count": null,
   "metadata": {},
   "outputs": [],
   "source": [
    "predictor = TabularPredictor.load('path_to_predictor')\n",
    "ld_board = predictor.leaderboard(test, silent=True)"
   ]
  },
  {
   "cell_type": "code",
   "execution_count": null,
   "metadata": {},
   "outputs": [],
   "source": [
    "evaluation_df = pd.Dataframe(columns=['model', 'bin', 'mae', 'mse', 'rmse', 'r2', 'adjusted_r2'])\n",
    "\n",
    "for i in range(10):\n",
    "        \n",
    "    for bin in test_df['dis_bin'].unique():\n",
    "\n",
    "        bin_df = test_df[test_df['dis_bin'] == bin]\n",
    "                                \n",
    "        test_bin = TabularDataset(bin_df.drop(['depth_start', 'dis_bin'], axis=1))\n",
    "        y_test_bin = bin_df['depth_start'].values.tolist()\n",
    "\n",
    "        pred_y = predictor.predict(test_bin, ld_board.model[i])\n",
    "\n",
    "        mae = mean_absolute_error(y_test_bin, pred_y)\n",
    "        mse = mean_squared_error(y_test_bin, pred_y)\n",
    "        rmse = root_mean_squared_error(y_test_bin, pred_y)\n",
    "        r2 = r2_score(y_test_bin, pred_y)\n",
    "\n",
    "        n = len(bin_df)\n",
    "        k = 6\n",
    "        adjusted_r2 = (1-r2)(n-1)/(n-k-1)\n",
    "\n",
    "        evaluation_df.append({'model':ld_board.model[i],'bin':bin, 'mae':mae, 'mse':mse, 'rmse':rmse, 'r2':r2, 'adjusted_r2':adjusted_r2}, ignore_index=True)\n",
    "    \n",
    "    evaluation_df[evaluation_df['model']==ld_board.model[i]].plot.bar(x='bin', y='adjusted_r2')\n",
    "\n",
    "evaluation_df.to_csv('data/241025_Rockhead_Seoul_Evaluation(before_aumentation).csv', index=False)"
   ]
  },
  {
   "cell_type": "code",
   "execution_count": null,
   "metadata": {},
   "outputs": [],
   "source": []
  }
 ],
 "metadata": {
  "kernelspec": {
   "display_name": ".venv",
   "language": "python",
   "name": "python3"
  },
  "language_info": {
   "name": "python",
   "version": "3.11.9"
  }
 },
 "nbformat": 4,
 "nbformat_minor": 2
}
