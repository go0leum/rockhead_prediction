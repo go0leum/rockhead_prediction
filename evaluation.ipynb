{
 "cells": [
  {
   "cell_type": "markdown",
   "metadata": {},
   "source": [
    "# Evaluation"
   ]
  },
  {
   "cell_type": "code",
   "execution_count": 1,
   "metadata": {},
   "outputs": [
    {
     "name": "stderr",
     "output_type": "stream",
     "text": [
      "d:\\rockhead_prediction\\.venv\\Lib\\site-packages\\tqdm\\auto.py:21: TqdmWarning: IProgress not found. Please update jupyter and ipywidgets. See https://ipywidgets.readthedocs.io/en/stable/user_install.html\n",
      "  from .autonotebook import tqdm as notebook_tqdm\n"
     ]
    }
   ],
   "source": [
    "import pandas as pd\n",
    "from autogluon.tabular import TabularDataset, TabularPredictor\n",
    "from utils import eda_utils, evaluation_utils\n",
    "import numpy as np"
   ]
  },
  {
   "cell_type": "code",
   "execution_count": 6,
   "metadata": {},
   "outputs": [],
   "source": [
    "ml_df = pd.DataFrame(columns=['method', 'mae', 'mse', 'rmse', 'r2', 'adjusted_r2'])\n",
    "si_df = pd.DataFrame(columns=['method', 'mae', 'mse', 'rmse', 'r2', 'adjusted_r2'])\n",
    "\n",
    "ml_eval_df = pd.DataFrame(columns=['bin', 'method', 'y_true', 'y_pred', 'error'])\n",
    "si_eval_df = pd.DataFrame(columns=['bin', 'method', 'y_true', 'y_pred', 'error'])"
   ]
  },
  {
   "cell_type": "markdown",
   "metadata": {},
   "source": [
    "## Autogluon top 5 model Evaluation\n",
    "\n",
    "- boxplot: dis_bin-wise distribution, error distribution\n",
    "- barplot: dis_bin-wise rmse, adjusted_r2\n",
    "- output: csv"
   ]
  },
  {
   "cell_type": "code",
   "execution_count": 2,
   "metadata": {},
   "outputs": [],
   "source": [
    "test_df = pd.read_csv('data/241026_Rockhead_Seoul_test(before_aumentation).csv')"
   ]
  },
  {
   "cell_type": "code",
   "execution_count": 3,
   "metadata": {},
   "outputs": [],
   "source": [
    "test = TabularDataset(test_df.drop(['dis_bin'], axis=1))"
   ]
  },
  {
   "cell_type": "code",
   "execution_count": 4,
   "metadata": {},
   "outputs": [],
   "source": [
    "predictor = TabularPredictor.load('AutogluonModels\\\\ag-20241026_094403')\n",
    "ld_board = predictor.leaderboard(test, silent=True)"
   ]
  },
  {
   "cell_type": "code",
   "execution_count": 13,
   "metadata": {},
   "outputs": [
    {
     "ename": "TypeError",
     "evalue": "'numpy.float64' object is not callable",
     "output_type": "error",
     "traceback": [
      "\u001b[1;31m---------------------------------------------------------------------------\u001b[0m",
      "\u001b[1;31mTypeError\u001b[0m                                 Traceback (most recent call last)",
      "Cell \u001b[1;32mIn[13], line 17\u001b[0m\n\u001b[0;32m     14\u001b[0m     error_df[error_df[\u001b[38;5;124m'\u001b[39m\u001b[38;5;124mbin\u001b[39m\u001b[38;5;124m'\u001b[39m]\u001b[38;5;241m==\u001b[39m\u001b[38;5;28;01mNone\u001b[39;00m] \u001b[38;5;241m=\u001b[39m \u001b[38;5;28mbin\u001b[39m\n\u001b[0;32m     15\u001b[0m     error_df[error_df[\u001b[38;5;124m'\u001b[39m\u001b[38;5;124mmodel\u001b[39m\u001b[38;5;124m'\u001b[39m]\u001b[38;5;241m==\u001b[39m\u001b[38;5;28;01mNone\u001b[39;00m] \u001b[38;5;241m=\u001b[39m ld_board\u001b[38;5;241m.\u001b[39mmodel[i]\n\u001b[1;32m---> 17\u001b[0m mae, mse, rmse, r2, adjusted_r2 \u001b[38;5;241m=\u001b[39m \u001b[43mevaluation_utils\u001b[49m\u001b[38;5;241;43m.\u001b[39;49m\u001b[43mevaluation\u001b[49m\u001b[43m(\u001b[49m\u001b[43merror_df\u001b[49m\u001b[43m[\u001b[49m\u001b[38;5;124;43m'\u001b[39;49m\u001b[38;5;124;43my_true\u001b[39;49m\u001b[38;5;124;43m'\u001b[39;49m\u001b[43m]\u001b[49m\u001b[38;5;241;43m.\u001b[39;49m\u001b[43marray\u001b[49m\u001b[43m,\u001b[49m\u001b[43m \u001b[49m\u001b[43merror_df\u001b[49m\u001b[43m[\u001b[49m\u001b[38;5;124;43m'\u001b[39;49m\u001b[38;5;124;43my_pred\u001b[39;49m\u001b[38;5;124;43m'\u001b[39;49m\u001b[43m]\u001b[49m\u001b[38;5;241;43m.\u001b[39;49m\u001b[43marray\u001b[49m\u001b[43m,\u001b[49m\u001b[43m \u001b[49m\u001b[38;5;28;43mlen\u001b[39;49m\u001b[43m(\u001b[49m\u001b[43merror_df\u001b[49m\u001b[43m)\u001b[49m\u001b[43m,\u001b[49m\u001b[43m \u001b[49m\u001b[38;5;241;43m7\u001b[39;49m\u001b[43m)\u001b[49m\n\u001b[0;32m     18\u001b[0m result\u001b[38;5;241m=\u001b[39m{\u001b[38;5;124m'\u001b[39m\u001b[38;5;124mmodel\u001b[39m\u001b[38;5;124m'\u001b[39m:ld_board\u001b[38;5;241m.\u001b[39mmodel[i], \u001b[38;5;124m'\u001b[39m\u001b[38;5;124mmae\u001b[39m\u001b[38;5;124m'\u001b[39m:mae, \u001b[38;5;124m'\u001b[39m\u001b[38;5;124mmse\u001b[39m\u001b[38;5;124m'\u001b[39m:mse, \u001b[38;5;124m'\u001b[39m\u001b[38;5;124mrmse\u001b[39m\u001b[38;5;124m'\u001b[39m:rmse, \u001b[38;5;124m'\u001b[39m\u001b[38;5;124mr2\u001b[39m\u001b[38;5;124m'\u001b[39m:r2, \u001b[38;5;124m'\u001b[39m\u001b[38;5;124madjusted_r2\u001b[39m\u001b[38;5;124m'\u001b[39m:adjusted_r2}\n\u001b[0;32m     19\u001b[0m evaluation_df \u001b[38;5;241m=\u001b[39m pd\u001b[38;5;241m.\u001b[39mconcat([evaluation_df,pd\u001b[38;5;241m.\u001b[39mDataFrame(result)], ignore_index\u001b[38;5;241m=\u001b[39m\u001b[38;5;28;01mTrue\u001b[39;00m)\n",
      "File \u001b[1;32md:\\rockhead_prediction\\utils\\evaluation_utils.py:11\u001b[0m, in \u001b[0;36mevaluation\u001b[1;34m(y_true, y_pred, n, k)\u001b[0m\n\u001b[0;32m      9\u001b[0m rmse \u001b[38;5;241m=\u001b[39m root_mean_squared_error(y_true, y_pred)\n\u001b[0;32m     10\u001b[0m r2 \u001b[38;5;241m=\u001b[39m r2_score(y_true, y_pred)\n\u001b[1;32m---> 11\u001b[0m adjusted_r2 \u001b[38;5;241m=\u001b[39m \u001b[43m(\u001b[49m\u001b[38;5;241;43m1\u001b[39;49m\u001b[38;5;241;43m-\u001b[39;49m\u001b[43mr2\u001b[49m\u001b[43m)\u001b[49m\u001b[43m(\u001b[49m\u001b[43mn\u001b[49m\u001b[38;5;241;43m-\u001b[39;49m\u001b[38;5;241;43m1\u001b[39;49m\u001b[43m)\u001b[49m\u001b[38;5;241m/\u001b[39m(n\u001b[38;5;241m-\u001b[39mk\u001b[38;5;241m-\u001b[39m\u001b[38;5;241m1\u001b[39m)\n\u001b[0;32m     13\u001b[0m \u001b[38;5;28;01mreturn\u001b[39;00m mae, mse, rmse, r2, adjusted_r2\n",
      "\u001b[1;31mTypeError\u001b[0m: 'numpy.float64' object is not callable"
     ]
    }
   ],
   "source": [
    "for i in range(5):\n",
    "        \n",
    "    for bin in test_df['dis_bin'].unique():\n",
    "\n",
    "        error_df = pd.DataFrmae(columns=['bin', 'method', 'y_true', 'y_pred', 'error'])\n",
    "\n",
    "        bin_df = test_df[test_df['dis_bin'] == bin]\n",
    "                                \n",
    "        X_test_bin = TabularDataset(bin_df.drop(['depth_start', 'dis_bin'], axis=1))\n",
    "        y_test_bin = bin_df['depth_start'].array\n",
    "\n",
    "        pred_y = predictor.predict(X_test_bin, ld_board.model[i])\n",
    "\n",
    "        error = {'bin':np.full(y_test_bin.shape, bin), 'method':np.full(y_test_bin.shape, ld_board.model[i]),'y_true':y_test_bin, 'y_pred':pred_y, 'error':abs(y_test_bin-pred_y)}\n",
    "        error_df = pd.concat([error_df, pd.DataFrame(error)], ignore_index=True)\n",
    "\n",
    "        ml_error_df = pd.concat([ml_error_df, error_df], ignore_index=True)\n",
    "    \n",
    "    mae, mse, rmse, r2, adjusted_r2 = evaluation_utils.evaluation(error_df['y_true'], error_df['y_pred'], len(error_df), 7)\n",
    "    result={'method':ld_board.model[i], 'mae':mae, 'mse':mse, 'rmse':rmse, 'r2':r2, 'adjusted_r2':adjusted_r2}\n",
    "    ml_eval_df = pd.concat([ml_eval_df, pd.DataFrame(result)], ignore_index=True)"
   ]
  },
  {
   "cell_type": "code",
   "execution_count": 8,
   "metadata": {},
   "outputs": [],
   "source": [
    "ml_eval_df.to_csv('data/241026_AutoML_top5_Evaluation(before_aumentation, parameter tuning).csv', index=False)"
   ]
  },
  {
   "cell_type": "code",
   "execution_count": null,
   "metadata": {},
   "outputs": [],
   "source": [
    "# method-wise error distribution\n",
    "eda_utils.box_plot(ml_error_df, 'error', 'method', 'Error Distribution')"
   ]
  },
  {
   "cell_type": "code",
   "execution_count": null,
   "metadata": {},
   "outputs": [],
   "source": [
    "# dis_bin-wise error distribution\n",
    "evaluation_utils.barplot(ml_eval_df, 'bin', 'RMSE', 'distribution', hue='method')\n",
    "evaluation_utils.barplot(ml_eval_df, 'bin', 'adjusted_r2', 'distribution', hue='method')"
   ]
  },
  {
   "cell_type": "markdown",
   "metadata": {},
   "source": [
    "## Spatial Interpolation Method Evaluation\n",
    "\n",
    "- boxplot: dis_bin-wise distribution, error distribution\n",
    "- output: csv\n",
    "\n",
    "GNNWR [Geographically neural network weighted regression for the accurate estimation of spatial non-stationarity](https://doi.org/10.1080/13658816.2019.1707834)\n",
    "\n",
    "KCN [Kriging Convolutional Networks](https://doi.org/10.48550/arXiv.2306.09463)\n",
    "\n",
    "GSARNN [A generalized spatial autoregressive neural network method for three-dimensional spatial interpolation](https://doi.org/10.5194/gmd-16-2777-2023)\n",
    "\n",
    "DKNN [DKNN: deep kriging neural network for interpretable geospatial interpolation](https://doi.org/10.1080/13658816.2024.2347316)\n",
    "\n",
    "Kriging [PyKrige](https://geostat-framework.readthedocs.io/projects/pykrige/en/stable/)\n",
    "\n",
    "\n",
    "\n",
    "KNN [scikit-learn-Nearest Neighbors regression](https://scikit-learn.org/stable/auto_examples/neighbors/plot_regression.html)\n",
    "\n",
    "IDW []\n",
    "\n",
    "RBF [Scipy-RBf](https://docs.scipy.org/doc/scipy/reference/generated/scipy.interpolate.Rbf.html#scipy.interpolate.Rbf)"
   ]
  },
  {
   "cell_type": "code",
   "execution_count": null,
   "metadata": {},
   "outputs": [],
   "source": [
    "test_df = pd.read_csv('data/241026_Rockhead_Seoul_test(before_aumentation).csv')"
   ]
  },
  {
   "cell_type": "code",
   "execution_count": null,
   "metadata": {},
   "outputs": [],
   "source": [
    "for i in range(8):\n",
    "        \n",
    "    for bin in test_df['dis_bin'].unique():\n",
    "\n",
    "        error_df = pd.DataFrmae(columns=['bin', 'method', 'y_true', 'y_pred', 'error'])\n",
    "\n",
    "        bin_df = test_df[test_df['dis_bin'] == bin]\n",
    "                                \n",
    "        # X_test_bin = TabularDataset(bin_df.drop(['depth_start', 'dis_bin'], axis=1))\n",
    "        # y_test_bin = bin_df['depth_start'].array\n",
    "\n",
    "        # pred_y = predictor.predict(X_test_bin, ld_board.model[i])\n",
    "\n",
    "        error = {'bin':np.full(y_test_bin.shape, bin), 'method':np.full(y_test_bin.shape, ld_board.model[i]),'y_true':y_test_bin, 'y_pred':pred_y, 'error':abs(y_test_bin-pred_y)}\n",
    "        error_df = pd.concat([error_df, pd.DataFrame(error)], ignore_index=True)\n",
    "\n",
    "        si_error_df = pd.concat([si_error_df, error_df], ignore_index=True)\n",
    "    \n",
    "    mae, mse, rmse, r2, adjusted_r2 = evaluation_utils.evaluation(error_df['y_true'], error_df['y_pred'], len(error_df), 7)\n",
    "    result={'method':, 'mae':mae, 'mse':mse, 'rmse':rmse, 'r2':r2, 'adjusted_r2':adjusted_r2}\n",
    "    si_eval_df = pd.concat([si_eval_df, pd.DataFrame(result)], ignore_index=True)"
   ]
  },
  {
   "cell_type": "code",
   "execution_count": null,
   "metadata": {},
   "outputs": [],
   "source": [
    "si_eval_df.to_csv('data/241026_Spatial_Interpolation_Evaluation(before_aumentation, parameter tuning).csv', index=False)"
   ]
  },
  {
   "cell_type": "code",
   "execution_count": null,
   "metadata": {},
   "outputs": [],
   "source": [
    "# method-wise error distribution\n",
    "eda_utils.box_plot(si_error_df, 'error', 'method', 'Error Distribution')"
   ]
  },
  {
   "cell_type": "code",
   "execution_count": null,
   "metadata": {},
   "outputs": [],
   "source": [
    "# dis_bin-wise error distribution\n",
    "evaluation_utils.barplot(si_eval_df, 'bin', 'RMSE', 'distribution', hue='method')\n",
    "evaluation_utils.barplot(si_eval_df, 'bin', 'adjusted_r2', 'distribution', hue='method')"
   ]
  },
  {
   "cell_type": "markdown",
   "metadata": {},
   "source": [
    "## Comparison Autogloun Model, Spatial Interpolation Method\n",
    "\n",
    "- multi-barplot: dis_bin"
   ]
  },
  {
   "cell_type": "code",
   "execution_count": null,
   "metadata": {},
   "outputs": [],
   "source": [
    "error_df = pd.concat([ml_error_df, si_error_df], ignore_index=True)\n",
    "evaluation_df = pd.concat([ml_eval_df, si_eval_df], ignore_index=True)"
   ]
  },
  {
   "cell_type": "code",
   "execution_count": null,
   "metadata": {},
   "outputs": [],
   "source": [
    "# method-wise error distribution\n",
    "eda_utils.box_plot(si_error_df, 'error', 'method', 'Error Distribution')"
   ]
  },
  {
   "cell_type": "code",
   "execution_count": null,
   "metadata": {},
   "outputs": [],
   "source": [
    "# dis_bin-wise error distribution\n",
    "evaluation_utils.barplot(si_eval_df, 'bin', 'RMSE', 'distribution', hue='method')\n",
    "evaluation_utils.barplot(si_eval_df, 'bin', 'adjusted_r2', 'distribution', hue='method')"
   ]
  },
  {
   "cell_type": "markdown",
   "metadata": {},
   "source": [
    "## Surface Visualization"
   ]
  }
 ],
 "metadata": {
  "kernelspec": {
   "display_name": ".venv",
   "language": "python",
   "name": "python3"
  },
  "language_info": {
   "codemirror_mode": {
    "name": "ipython",
    "version": 3
   },
   "file_extension": ".py",
   "mimetype": "text/x-python",
   "name": "python",
   "nbconvert_exporter": "python",
   "pygments_lexer": "ipython3",
   "version": "3.11.9"
  }
 },
 "nbformat": 4,
 "nbformat_minor": 2
}
