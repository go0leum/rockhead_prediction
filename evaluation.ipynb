{
 "cells": [
  {
   "cell_type": "markdown",
   "metadata": {},
   "source": [
    "# Evaluation"
   ]
  },
  {
   "cell_type": "code",
   "execution_count": null,
   "metadata": {},
   "outputs": [],
   "source": [
    "import pandas as pd\n",
    "from autogluon.tabular import TabularDataset, TabularPredictor\n",
    "from utils import eda_utils, evaluation_utils\n",
    "import numpy as np"
   ]
  },
  {
   "cell_type": "markdown",
   "metadata": {},
   "source": [
    "## AutoML top 5 model Evaluation\n",
    "\n",
    "- boxplot: dis_bin-wise distribution, error distribution\n",
    "- output: csv"
   ]
  },
  {
   "cell_type": "code",
   "execution_count": null,
   "metadata": {},
   "outputs": [],
   "source": [
    "test_df = pd.read_csv('data/241005_Rockhead_Seoul_test(before_aumentation).csv')"
   ]
  },
  {
   "cell_type": "code",
   "execution_count": null,
   "metadata": {},
   "outputs": [],
   "source": [
    "test_df['ground_name'] = test_df['ground_name'].astype('category')\n",
    "test_df['rock_type'] = test_df['rock_type'].astype('category')\n",
    "\n",
    "test = TabularDataset(test_df.drop(['depth_start', 'dis_bin'], axis=1))\n",
    "y_test = test_df['depth_start'].values.tolist()"
   ]
  },
  {
   "cell_type": "code",
   "execution_count": null,
   "metadata": {},
   "outputs": [],
   "source": [
    "predictor = TabularPredictor.load('path_to_predictor')\n",
    "ld_board = predictor.leaderboard(test, silent=True)"
   ]
  },
  {
   "cell_type": "code",
   "execution_count": null,
   "metadata": {},
   "outputs": [],
   "source": [
    "evaluation_df = pd.Dataframe(columns=['model', 'mae', 'mse', 'rmse', 'r2', 'adjusted_r2'])\n",
    "error_df = pd.Dataframe(columns=['bin', 'model', 'y_true', 'y_pred', 'error'])"
   ]
  },
  {
   "cell_type": "code",
   "execution_count": null,
   "metadata": {},
   "outputs": [],
   "source": [
    "for i in range(5):\n",
    "        \n",
    "    for bin in test_df['dis_bin'].unique():\n",
    "\n",
    "        bin_df = test_df[test_df['dis_bin'] == bin]\n",
    "                                \n",
    "        test_bin = TabularDataset(bin_df.drop(['depth_start', 'dis_bin'], axis=1))\n",
    "        y_test_bin = bin_df['depth_start'].values.tolist()\n",
    "\n",
    "        pred_y = predictor.predict(test_bin, ld_board.model[i])\n",
    "\n",
    "        error = {'y_true':y_test_bin, 'y_pred':pred_y, 'error':abs(y_test_bin-pred_y)}\n",
    "        error_df.append(error, ignore_index=True)\n",
    "        error_df[error_df['bin']==None] = bin\n",
    "        error_df[error_df['model']==None] = ld_board.model[i]\n",
    "    \n",
    "    mae, mse, rmse, r2, adjusted_r2 = evaluation_utils.evaluation(error_df['y_true'].array(), error_df['y_pred'].array())\n",
    "    result={'model':ld_board.model[i], 'mae':mae, 'mse':mse, 'rmse':rmse, 'r2':r2, 'adjusted_r2':adjusted_r2}\n",
    "    evaluation_df.append(result, ignore_index=True)"
   ]
  },
  {
   "cell_type": "code",
   "execution_count": null,
   "metadata": {},
   "outputs": [],
   "source": [
    "evaluation_df.to_csv('data/241025_AutoML_top5_Evaluation(before_aumentation, parameter tuning).csv', index=False)"
   ]
  },
  {
   "cell_type": "markdown",
   "metadata": {},
   "source": []
  },
  {
   "cell_type": "code",
   "execution_count": null,
   "metadata": {},
   "outputs": [],
   "source": [
    "# model-wise error distribution\n",
    "eda_utils.box_plot(error_df, 'error', 'model', 'Error Distribution')"
   ]
  },
  {
   "cell_type": "code",
   "execution_count": null,
   "metadata": {},
   "outputs": [],
   "source": [
    "# one model's dis_bin-wise error distribution\n",
    "for i in range(5):\n",
    "    eda_utils.box_plot(error_df[error_df['model']==ld_board.model[i]], 'error', 'bin', 'Error Distribution')"
   ]
  }
 ],
 "metadata": {
  "kernelspec": {
   "display_name": ".venv",
   "language": "python",
   "name": "python3"
  },
  "language_info": {
   "name": "python",
   "version": "3.11.9"
  }
 },
 "nbformat": 4,
 "nbformat_minor": 2
}
