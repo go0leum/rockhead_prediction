{
 "cells": [
  {
   "cell_type": "markdown",
   "metadata": {},
   "source": [
    "## GBDTs\n",
    "\n",
    "[Paper: When Do Neural Nets Outperform Boosted Trees on Tabular Data?](https://arxiv.org/pdf/2305.02997).\n",
    "\n",
    "1. CatBoost\n",
    "2. XGBoost\n",
    "3. RandomForest\n",
    "4. LightGBM\n",
    "5. SVM"
   ]
  },
  {
   "cell_type": "markdown",
   "metadata": {},
   "source": []
  }
 ],
 "metadata": {
  "language_info": {
   "name": "python"
  }
 },
 "nbformat": 4,
 "nbformat_minor": 2
}
