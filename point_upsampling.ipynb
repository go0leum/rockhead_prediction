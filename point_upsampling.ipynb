{
 "cells": [
  {
   "cell_type": "markdown",
   "metadata": {},
   "source": [
    "# Point Upsampling"
   ]
  },
  {
   "cell_type": "markdown",
   "metadata": {},
   "source": [
    "## IDW point selection\n",
    "\n",
    "- 각 포인트의 1789m 거리 내에 1m 간격의 포인트 생성\n",
    "- 생성된 포인트에 대해 neighbors idw\n",
    "- neighbors가 가장 작은 값 순서대로 선택"
   ]
  },
  {
   "cell_type": "code",
   "execution_count": 1,
   "metadata": {},
   "outputs": [
    {
     "name": "stderr",
     "output_type": "stream",
     "text": [
      "d:\\rockhead_prediction\\.venv\\Lib\\site-packages\\spaghetti\\network.py:41: FutureWarning: The next major release of pysal/spaghetti (2.0.0) will drop support for all ``libpysal.cg`` geometries. This change is a first step in refactoring ``spaghetti`` that is expected to result in dramatically reduced runtimes for network instantiation and operations. Users currently requiring network and point pattern input as ``libpysal.cg`` geometries should prepare for this simply by converting to ``shapely`` geometries.\n",
      "  warnings.warn(dep_msg, FutureWarning, stacklevel=1)\n",
      "d:\\rockhead_prediction\\.venv\\Lib\\site-packages\\tqdm\\auto.py:21: TqdmWarning: IProgress not found. Please update jupyter and ipywidgets. See https://ipywidgets.readthedocs.io/en/stable/user_install.html\n",
      "  from .autonotebook import tqdm as notebook_tqdm\n"
     ]
    }
   ],
   "source": [
    "import pandas as pd\n",
    "from tqdm import tqdm\n",
    "from scipy.spatial import distance\n",
    "import numpy as np\n",
    "import matplotlib.pyplot as plt\n",
    "from sklearn.neighbors import KDTree\n",
    "import utils.eda_utils as eda_utils "
   ]
  },
  {
   "cell_type": "code",
   "execution_count": 2,
   "metadata": {},
   "outputs": [],
   "source": [
    "df = pd.read_csv('data/241121_Rockhead_Seoul_train(before_aumentation).csv')"
   ]
  },
  {
   "cell_type": "code",
   "execution_count": 3,
   "metadata": {},
   "outputs": [],
   "source": [
    "def idw(df, x_col, y_col, value_col, new_points, p=2):\n",
    "    \"\"\"\n",
    "    Pandas DataFrame을 이용한 IDW 보간 함수\n",
    "\n",
    "    Args:\n",
    "        df: DataFrame containing x, y coordinates and values.\n",
    "        x_col, y_col, value_col: Column names for x, y coordinates and values in the DataFrame.\n",
    "        new_points: Array of points to interpolate (M, D), where M is the number of new points.\n",
    "        p: Power parameter for the weighting function.\n",
    "\n",
    "    Returns:\n",
    "        Interpolated values at new points (M).\n",
    "    \"\"\"\n",
    "\n",
    "    points = df[[x_col, y_col]].values\n",
    "    values = df[value_col].values\n",
    "\n",
    "    # 새로운 점과 기존 점 사이의 거리 계산\n",
    "    dist = distance.cdist(new_points, points, 'euclidean')\n",
    "\n",
    "    # 거리의 역수를 p 제곱하여 가중치 계산\n",
    "    weights = 1 / (dist + 1e-10)**p\n",
    "\n",
    "    # 가중 평균 계산\n",
    "    z = np.sum(weights * values, axis=1) / np.sum(weights, axis=1)\n",
    "\n",
    "    return z"
   ]
  },
  {
   "cell_type": "code",
   "execution_count": 5,
   "metadata": {},
   "outputs": [
    {
     "name": "stderr",
     "output_type": "stream",
     "text": [
      "  0%|          | 0/13590 [00:00<?, ?it/s]C:\\Users\\user\\AppData\\Local\\Temp\\ipykernel_29148\\2668475920.py:37: FutureWarning: The behavior of DataFrame concatenation with empty or all-NA entries is deprecated. In a future version, this will no longer exclude empty or all-NA columns when determining the result dtypes. To retain the old behavior, exclude the relevant entries before the concat operation.\n",
      "  df_samples = pd.concat([df_samples, top], ignore_index=True)\n",
      "  1%|          | 75/13590 [24:40<74:07:39, 19.75s/it] \n"
     ]
    },
    {
     "ename": "MemoryError",
     "evalue": "Unable to allocate 11.3 GiB for an array with shape (10054687, 151) and data type float64",
     "output_type": "error",
     "traceback": [
      "\u001b[1;31m---------------------------------------------------------------------------\u001b[0m",
      "\u001b[1;31mMemoryError\u001b[0m                               Traceback (most recent call last)",
      "Cell \u001b[1;32mIn[5], line 30\u001b[0m\n\u001b[0;32m     27\u001b[0m points \u001b[38;5;241m=\u001b[39m points[mask]\n\u001b[0;32m     29\u001b[0m \u001b[38;5;66;03m# neighbors 기반 idw\u001b[39;00m\n\u001b[1;32m---> 30\u001b[0m z \u001b[38;5;241m=\u001b[39m \u001b[43midw\u001b[49m\u001b[43m(\u001b[49m\u001b[43mdf_group\u001b[49m\u001b[43m,\u001b[49m\u001b[43m \u001b[49m\u001b[38;5;124;43m'\u001b[39;49m\u001b[38;5;124;43mx\u001b[39;49m\u001b[38;5;124;43m'\u001b[39;49m\u001b[43m,\u001b[49m\u001b[43m \u001b[49m\u001b[38;5;124;43m'\u001b[39;49m\u001b[38;5;124;43my\u001b[39;49m\u001b[38;5;124;43m'\u001b[39;49m\u001b[43m,\u001b[49m\u001b[43m \u001b[49m\u001b[38;5;124;43m'\u001b[39;49m\u001b[38;5;124;43mneighbors\u001b[39;49m\u001b[38;5;124;43m'\u001b[39;49m\u001b[43m,\u001b[49m\u001b[43m \u001b[49m\u001b[43mpoints\u001b[49m\u001b[43m,\u001b[49m\u001b[43m \u001b[49m\u001b[43mp\u001b[49m\u001b[38;5;241;43m=\u001b[39;49m\u001b[38;5;241;43m1\u001b[39;49m\u001b[43m)\u001b[49m\n\u001b[0;32m     32\u001b[0m df_new \u001b[38;5;241m=\u001b[39m pd\u001b[38;5;241m.\u001b[39mDataFrame({\u001b[38;5;124m'\u001b[39m\u001b[38;5;124mx\u001b[39m\u001b[38;5;124m'\u001b[39m: points[:,\u001b[38;5;241m0\u001b[39m], \u001b[38;5;124m'\u001b[39m\u001b[38;5;124my\u001b[39m\u001b[38;5;124m'\u001b[39m: points[:,\u001b[38;5;241m1\u001b[39m], \u001b[38;5;124m'\u001b[39m\u001b[38;5;124mneighbors\u001b[39m\u001b[38;5;124m'\u001b[39m: z, \u001b[38;5;124m'\u001b[39m\u001b[38;5;124msample\u001b[39m\u001b[38;5;124m'\u001b[39m: \u001b[38;5;28;01mTrue\u001b[39;00m})\n\u001b[0;32m     34\u001b[0m \u001b[38;5;66;03m# 필터링된 데이터에서 neighbors 값이 작은 행 추출\u001b[39;00m\n",
      "Cell \u001b[1;32mIn[3], line 22\u001b[0m, in \u001b[0;36midw\u001b[1;34m(df, x_col, y_col, value_col, new_points, p)\u001b[0m\n\u001b[0;32m     19\u001b[0m dist \u001b[38;5;241m=\u001b[39m distance\u001b[38;5;241m.\u001b[39mcdist(new_points, points, \u001b[38;5;124m'\u001b[39m\u001b[38;5;124meuclidean\u001b[39m\u001b[38;5;124m'\u001b[39m)\n\u001b[0;32m     21\u001b[0m \u001b[38;5;66;03m# 거리의 역수를 p 제곱하여 가중치 계산\u001b[39;00m\n\u001b[1;32m---> 22\u001b[0m weights \u001b[38;5;241m=\u001b[39m \u001b[38;5;241m1\u001b[39m \u001b[38;5;241m/\u001b[39m \u001b[43m(\u001b[49m\u001b[43mdist\u001b[49m\u001b[43m \u001b[49m\u001b[38;5;241;43m+\u001b[39;49m\u001b[43m \u001b[49m\u001b[38;5;241;43m1e-10\u001b[39;49m\u001b[43m)\u001b[49m\u001b[38;5;241;43m*\u001b[39;49m\u001b[38;5;241;43m*\u001b[39;49m\u001b[43mp\u001b[49m\n\u001b[0;32m     24\u001b[0m \u001b[38;5;66;03m# 가중 평균 계산\u001b[39;00m\n\u001b[0;32m     25\u001b[0m z \u001b[38;5;241m=\u001b[39m np\u001b[38;5;241m.\u001b[39msum(weights \u001b[38;5;241m*\u001b[39m values, axis\u001b[38;5;241m=\u001b[39m\u001b[38;5;241m1\u001b[39m) \u001b[38;5;241m/\u001b[39m np\u001b[38;5;241m.\u001b[39msum(weights, axis\u001b[38;5;241m=\u001b[39m\u001b[38;5;241m1\u001b[39m)\n",
      "\u001b[1;31mMemoryError\u001b[0m: Unable to allocate 11.3 GiB for an array with shape (10054687, 151) and data type float64"
     ]
    }
   ],
   "source": [
    "df_samples = pd.DataFrame(columns=['x', 'y', 'neighbors'])\n",
    "\n",
    "radius = 1789\n",
    "mid_neighbor = 50\n",
    "\n",
    "location = df.loc[:,['x','y']].to_numpy()\n",
    "tree = KDTree(location, leaf_size=15000)\n",
    "\n",
    "for i, row in tqdm(df.iterrows(), total=len(df)):\n",
    "    indices = tree.query_radius([row[['x','y']].to_numpy()], r=radius)\n",
    "\n",
    "    if len(indices) >= mid_neighbor:\n",
    "        continue\n",
    "    else:\n",
    "        df_group = df.iloc[indices[0]]\n",
    "        x_min, x_max = row.x - radius, row.x + radius\n",
    "        y_min, y_max = row.y - radius, row.y + radius\n",
    "\n",
    "        # 원 안에 그리드 생성\n",
    "        x = np.arange(x_min, x_max, 1)\n",
    "        y = np.arange(y_min, y_max, 1)\n",
    "        X, Y = np.meshgrid(x, y)\n",
    "        points = np.column_stack((X.ravel(), Y.ravel()))\n",
    "\n",
    "        distances = np.sqrt((points[:, 0] - row.x)**2 + (points[:, 1] - row.y)**2)\n",
    "        mask = distances <= radius\n",
    "        points = points[mask]\n",
    "\n",
    "        # neighbors 기반 idw\n",
    "        z = idw(df_group, 'x', 'y', 'neighbors', points, p=1)\n",
    "\n",
    "        df_new = pd.DataFrame({'x': points[:,0], 'y': points[:,1], 'neighbors': z, 'sample': True})\n",
    "\n",
    "        # 필터링된 데이터에서 neighbors 값이 작은 행 추출\n",
    "        df_new = df_new.sort_values(by='neighbors')\n",
    "        top = df_new.head(100-len(indices))\n",
    "        df_samples = pd.concat([df_samples, top], ignore_index=True)"
   ]
  },
  {
   "cell_type": "code",
   "execution_count": null,
   "metadata": {},
   "outputs": [],
   "source": [
    "# 컨투어 플롯 그리기\n",
    "plt.figure(figsize=(10, 6))\n",
    "plt.contourf(df_samples.x, df_samples.y, df_samples.neighbors, cmap='viridis')\n",
    "plt.colorbar()\n",
    "#plt.scatter(df['x'], df['y'], c='red', marker='x')\n",
    "plt.xlabel('X')\n",
    "plt.ylabel('Y')\n",
    "plt.title('IDW Interpolation')\n",
    "plt.show()"
   ]
  },
  {
   "cell_type": "code",
   "execution_count": null,
   "metadata": {},
   "outputs": [],
   "source": [
    "df_idw = df[['x', 'y', 'z']]\n",
    "df_idw['sample'] = False\n",
    "\n",
    "df_idw = pd.concat([df_idw, df_samples], ignore_index=True)\n",
    "\n",
    "eda_utils.scatter_relation(df_idw, 'x', 'y', 5, 'x, y, neighbors','sample')"
   ]
  }
 ],
 "metadata": {
  "kernelspec": {
   "display_name": ".venv",
   "language": "python",
   "name": "python3"
  },
  "language_info": {
   "codemirror_mode": {
    "name": "ipython",
    "version": 3
   },
   "file_extension": ".py",
   "mimetype": "text/x-python",
   "name": "python",
   "nbconvert_exporter": "python",
   "pygments_lexer": "ipython3",
   "version": "3.11.9"
  }
 },
 "nbformat": 4,
 "nbformat_minor": 2
}
