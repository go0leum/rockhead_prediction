{
 "cells": [
  {
   "cell_type": "markdown",
   "metadata": {},
   "source": [
    "### EDA\n",
    "\n",
    "#### 20240726_Rockhead_Seoul(False_coordinate_sys).csv\n",
    "\n",
    "#### columns info\n",
    "\n",
    "- 앞으로 추가될 comlumns\n",
    "    - 지질 시대\n",
    "    - DEM 경사\n",
    "    - 지형 정보(강, 산 ...)\n",
    "\n",
    "\n",
    "|column name|Description|test input|\n",
    "|---|---|---|\n",
    "|borehole_code|시추공 코드|X|\n",
    "|x|위도|O|\n",
    "|y|경도|O|\n",
    "|Elevation|표고|O|\n",
    "|depth_start|rockhead 시작 심도|output|\n",
    "|depth_end|rockhead 종료 심도|X|\n",
    "|Ground name|지반명- WR: 풍화암, SR: 연암, MR: 보통암, HR: 경암|X|\n",
    "|Density|1km^2당 시추공 밀도|O|"
   ]
  },
  {
   "cell_type": "code",
   "execution_count": null,
   "metadata": {},
   "outputs": [],
   "source": [
    "import numpy as np\n",
    "import pandas as pd\n",
    "import matplotlib.pyplot as plt"
   ]
  },
  {
   "cell_type": "code",
   "execution_count": null,
   "metadata": {},
   "outputs": [],
   "source": [
    "#data load\n",
    "csv = pd.read_csv('data/240726_Rockhead_Seoul(False_coordinate_sys).csv')\n",
    "df_row = pd.DataFrame(csv)"
   ]
  },
  {
   "cell_type": "markdown",
   "metadata": {},
   "source": [
    "#### Data check\n",
    "- info\n",
    "- distribution"
   ]
  },
  {
   "cell_type": "code",
   "execution_count": null,
   "metadata": {},
   "outputs": [],
   "source": [
    "df_row.info()"
   ]
  },
  {
   "cell_type": "code",
   "execution_count": null,
   "metadata": {},
   "outputs": [],
   "source": [
    "df_row['Ground name'].unique()"
   ]
  },
  {
   "cell_type": "code",
   "execution_count": null,
   "metadata": {},
   "outputs": [],
   "source": [
    "df_row.describe().T"
   ]
  },
  {
   "cell_type": "code",
   "execution_count": null,
   "metadata": {},
   "outputs": [],
   "source": [
    "#error값 제거\n",
    "df_row['depth_fault']=df_row['depth_start'] > df_row['depth_end']\n",
    "df_row['depth_fault'].value_counts()"
   ]
  },
  {
   "cell_type": "code",
   "execution_count": null,
   "metadata": {},
   "outputs": [],
   "source": [
    "df = df_row[df_row['depth_fault']==False]\n",
    "\n",
    "df.drop(['depth_fault'], axis=1, inplace=True)\n",
    "df.info()"
   ]
  },
  {
   "cell_type": "markdown",
   "metadata": {},
   "source": [
    "#### Data Visualization"
   ]
  },
  {
   "cell_type": "code",
   "execution_count": null,
   "metadata": {},
   "outputs": [],
   "source": [
    "import utils.eda_utils as eda_utils "
   ]
  },
  {
   "cell_type": "code",
   "execution_count": null,
   "metadata": {},
   "outputs": [],
   "source": [
    "df_v = df.copy()"
   ]
  },
  {
   "cell_type": "code",
   "execution_count": null,
   "metadata": {},
   "outputs": [],
   "source": [
    "eda_utils.scatter_relation(df_v, 'x', 'y', 'x, y, depth_start','depth_start')"
   ]
  },
  {
   "cell_type": "code",
   "execution_count": null,
   "metadata": {},
   "outputs": [],
   "source": [
    "eda_utils.scatter_relation(df_v, 'x', 'y', 'x, y, Ground name','Ground name')"
   ]
  },
  {
   "cell_type": "code",
   "execution_count": null,
   "metadata": {},
   "outputs": [],
   "source": [
    "eda_utils.scatter_relation(df_v, 'x', 'y', 'x, y, Density','Density')"
   ]
  },
  {
   "cell_type": "code",
   "execution_count": null,
   "metadata": {},
   "outputs": [],
   "source": [
    "eda_utils.correlation_matrix(df_v, 'correlation of rockhead_seoul', drop_column='borehole_code')"
   ]
  },
  {
   "cell_type": "code",
   "execution_count": null,
   "metadata": {},
   "outputs": [],
   "source": [
    "eda_utils.pairplot(df_v, 'correlation of rockhead_seoul', drop_column='borehole_code')"
   ]
  },
  {
   "cell_type": "code",
   "execution_count": null,
   "metadata": {},
   "outputs": [],
   "source": [
    "eda_utils.box_plot(df_v, 'Ground name', 'depth_start', 'Ground name & depth_start')"
   ]
  },
  {
   "cell_type": "code",
   "execution_count": null,
   "metadata": {},
   "outputs": [],
   "source": [
    "#depth distribution\n",
    "eda_utils.distribution_histogram(df_v, 'Density', 'Density distribution')"
   ]
  },
  {
   "cell_type": "code",
   "execution_count": null,
   "metadata": {},
   "outputs": [],
   "source": [
    "#elevation log scale distribution\n",
    "eda_utils.distribution_histogram(df_v, 'depth_start', 'depth_start distribution', 'Ground name')\n",
    "\n",
    "df_v['log_depth_start'] = pd.Series(np.log(df_v['depth_start'].to_numpy()))\n",
    "eda_utils.distribution_histogram(df_v, 'log_depth_start', 'depth_start log scale distribution', 'Ground name')"
   ]
  },
  {
   "cell_type": "markdown",
   "metadata": {},
   "source": [
    "#### Data Cleansing\n",
    "- delete: depth end, borehole_code\n",
    "- replace: ground name\n",
    "- normalization: x, y, elevation, density"
   ]
  },
  {
   "cell_type": "code",
   "execution_count": null,
   "metadata": {},
   "outputs": [],
   "source": [
    "# replace\n",
    "\n",
    "def df_row_cleaning(df):\n",
    "\n",
    "    # normalize\n",
    "    density_mean, density_std = df['Density'].mean(), df['Density'].std()\n",
    "    df['Density'] = (df['Density']-density_mean)/density_std\n",
    "\n",
    "    return df"
   ]
  },
  {
   "cell_type": "code",
   "execution_count": null,
   "metadata": {},
   "outputs": [],
   "source": [
    "df = df_row_cleaning(df)"
   ]
  },
  {
   "cell_type": "code",
   "execution_count": null,
   "metadata": {},
   "outputs": [],
   "source": [
    "df.head()"
   ]
  },
  {
   "cell_type": "code",
   "execution_count": null,
   "metadata": {},
   "outputs": [],
   "source": [
    "df.to_csv('data/240907_Rockhead_Seoul(False_coordinate_sys, density-norm).csv', index=False)"
   ]
  },
  {
   "cell_type": "code",
   "execution_count": null,
   "metadata": {},
   "outputs": [],
   "source": [
    "# df_o\n",
    "den_min = df['Density'].min()\n",
    "den_max = df['Density'].max()\n",
    "\n",
    "den_gap = (den_max-den_min)/30\n",
    "\n",
    "df_o = df.reset_index().copy()\n",
    "\n",
    "df_o['den_bin'] = (df_o['Density']-den_min)//den_gap\n",
    "\n",
    "print(df_o.info())"
   ]
  },
  {
   "cell_type": "code",
   "execution_count": null,
   "metadata": {},
   "outputs": [],
   "source": [
    "df_o.groupby('den_bin').count()"
   ]
  },
  {
   "cell_type": "code",
   "execution_count": null,
   "metadata": {},
   "outputs": [],
   "source": [
    "df_org_test = pd.DataFrame(columns=df_o.columns)\n",
    "\n",
    "for i in range(0,31):\n",
    "    df_ot_i = (df_o[df_o['den_bin'] == i]).sample(frac=0.2, random_state=1)\n",
    "\n",
    "    df_org_test = pd.concat([df_org_test, df_ot_i])\n",
    "\n",
    "print(df_org_test.info())"
   ]
  },
  {
   "cell_type": "code",
   "execution_count": null,
   "metadata": {},
   "outputs": [],
   "source": [
    "df_o = pd.merge(df_o, df_org_test, how='outer', indicator=True)\n",
    "df_o = df_o.query('_merge == \"left_only\"').drop(columns=['_merge'])\n",
    "\n",
    "print(df_o.info())"
   ]
  },
  {
   "cell_type": "code",
   "execution_count": null,
   "metadata": {},
   "outputs": [],
   "source": [
    "df_org_val = pd.DataFrame(columns=df_o.columns)\n",
    "\n",
    "for i in range(0,31):\n",
    "    df_ov_i = (df_o[df_o['den_bin'] == i]).sample(frac=0.1, random_state=1)\n",
    "\n",
    "    df_org_val = pd.concat([df_org_val, df_ov_i])\n",
    "\n",
    "print(df_org_val.info())"
   ]
  },
  {
   "cell_type": "code",
   "execution_count": null,
   "metadata": {},
   "outputs": [],
   "source": [
    "df_org_train = pd.merge(df_o, df_org_val, how='outer', indicator=True)\n",
    "df_org_train = df_org_train.query('_merge == \"left_only\"').drop(columns=['_merge'])\n",
    "\n",
    "print(df_org_train.info())"
   ]
  },
  {
   "cell_type": "code",
   "execution_count": null,
   "metadata": {},
   "outputs": [],
   "source": [
    "df_org_train = df_org_train.drop(['index', 'den_bin'],axis=1)\n",
    "df_org_val = df_org_val.drop(['index', 'den_bin'],axis=1)\n",
    "df_org_test = df_org_test.drop(['index', 'den_bin'],axis=1)"
   ]
  },
  {
   "cell_type": "code",
   "execution_count": null,
   "metadata": {},
   "outputs": [],
   "source": [
    "df_org_train.to_csv('data/240907_Rockhead_Seoul_train(false, before_aumentation).csv', index=False)\n",
    "df_org_val.to_csv('data/240907_Rockhead_Seoul_val(false, before_aumentation).csv', index=False)\n",
    "df_org_test.to_csv('data/240907_Rockhead_Seoul_test(false, before_aumentation).csv', index=False)"
   ]
  }
 ],
 "metadata": {
  "kernelspec": {
   "display_name": ".venv",
   "language": "python",
   "name": "python3"
  },
  "language_info": {
   "codemirror_mode": {
    "name": "ipython",
    "version": 3
   },
   "file_extension": ".py",
   "mimetype": "text/x-python",
   "name": "python",
   "nbconvert_exporter": "python",
   "pygments_lexer": "ipython3",
   "version": "3.11.9"
  }
 },
 "nbformat": 4,
 "nbformat_minor": 2
}
