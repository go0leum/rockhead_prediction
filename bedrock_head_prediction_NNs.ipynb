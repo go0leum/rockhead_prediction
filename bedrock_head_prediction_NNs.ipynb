{
 "cells": [
  {
   "cell_type": "markdown",
   "metadata": {},
   "source": [
    "## NNs\n",
    "\n",
    "[Paper: When Do Neural Nets Outperform Boosted Trees on Tabular Data?](https://arxiv.org/pdf/2305.02997).\n",
    "\n",
    "1. TabPFN\n",
    "2. ResNet\n",
    "3. SAINT\n",
    "4. NODE\n",
    "5. FTTransformer"
   ]
  }
 ],
 "metadata": {
  "language_info": {
   "name": "python"
  }
 },
 "nbformat": 4,
 "nbformat_minor": 2
}
